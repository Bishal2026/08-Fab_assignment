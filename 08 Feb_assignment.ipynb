{
 "cells": [
  {
   "cell_type": "markdown",
   "id": "068ef708-07aa-4b31-9bc1-d958bd4c90a4",
   "metadata": {},
   "source": [
    "Q1. Abstaction is the process of hiding the internal details of an application from the outer world.\n",
    " example:"
   ]
  },
  {
   "cell_type": "code",
   "execution_count": 3,
   "id": "10e6f054-f8db-4535-9aea-217da691b819",
   "metadata": {},
   "outputs": [],
   "source": [
    "import abc\n",
    "class pwskills:\n",
    "    @abc.abstractmethod\n",
    "    def student_details(self): #abstractmethod\n",
    "        pass\n",
    "    @abc.abstractmethod\n",
    "    def student_assignement(self): #abstractmethod\n",
    "        pass\n",
    "    @abc.abstractmethod\n",
    "    def student_marks(self): #abstractmethod\n",
    "        pass"
   ]
  },
  {
   "cell_type": "code",
   "execution_count": 4,
   "id": "d7c1084b-241d-430b-a5bb-1935a66b98ec",
   "metadata": {},
   "outputs": [],
   "source": [
    "class student_pwskills(pwskills):\n",
    "    def student_details(self):\n",
    "        return \"Here the all details\""
   ]
  },
  {
   "cell_type": "code",
   "execution_count": 6,
   "id": "cab09df8-f8cd-4e71-b52c-b9290b7c8bc9",
   "metadata": {},
   "outputs": [
    {
     "data": {
      "text/plain": [
       "'Here the all details'"
      ]
     },
     "execution_count": 6,
     "metadata": {},
     "output_type": "execute_result"
    }
   ],
   "source": [
    "pw =student_pwskills() # create a object\n",
    "pw.student_details()"
   ]
  },
  {
   "cell_type": "markdown",
   "id": "2194cfef-c8f1-4f59-b58f-68e530ead5ee",
   "metadata": {},
   "source": [
    "Q2.Abstraction is a design level process and it is used to reduce the complexity at the designing stage of a project. Encapsulation is an implementation level process, and it is used to provide privacy and maintain control over the transparency of data at the implementation stage of a project"
   ]
  },
  {
   "cell_type": "code",
   "execution_count": 17,
   "id": "97258197-427c-42e0-8398-5cbae18cc657",
   "metadata": {},
   "outputs": [],
   "source": [
    "import abc\n",
    "class pwskills:\n",
    "    \n",
    "    def student_details(self,phone,address): # Encapsulation\n",
    "        self.__phone =phone\n",
    "        self.__address = address\n",
    "    def set_phone(self,phone): # settter\n",
    "        self.__phone = phone\n",
    "    def get_phone(self):\n",
    "        return self.__phone\n",
    "        \n",
    "    @abc.abstractmethod\n",
    "    def student_assignement(self): #abstractmethod\n",
    "        pass\n",
    "    @abc.abstractmethod\n",
    "    def student_marks(self): #abstractmethod\n",
    "        pass"
   ]
  },
  {
   "cell_type": "code",
   "execution_count": 8,
   "id": "0654ff0e-565f-492d-ab7a-064d1c9ef214",
   "metadata": {},
   "outputs": [],
   "source": [
    "class student_pwskills(pwskills):\n",
    "    def student_assignement(self):\n",
    "        return \"Here the all assignment\""
   ]
  },
  {
   "cell_type": "code",
   "execution_count": 18,
   "id": "24dae3b6-b538-4ba9-80ad-d8820271a8e3",
   "metadata": {},
   "outputs": [],
   "source": [
    "pw1 = pwskills()\n",
    "pw1.student_details(628346269,\"Anantapur\")"
   ]
  },
  {
   "cell_type": "code",
   "execution_count": 15,
   "id": "eb13793a-8099-4df1-b4c1-918df73507d0",
   "metadata": {},
   "outputs": [
    {
     "data": {
      "text/plain": [
       "'Here the all assignment'"
      ]
     },
     "execution_count": 15,
     "metadata": {},
     "output_type": "execute_result"
    }
   ],
   "source": [
    "pw2 = student_pwskills()\n",
    "pw2.student_assignement()"
   ]
  },
  {
   "cell_type": "code",
   "execution_count": 19,
   "id": "1441d83c-d12a-4e90-8dce-1742181d195e",
   "metadata": {},
   "outputs": [],
   "source": [
    "pw1.set_phone(6346246296)"
   ]
  },
  {
   "cell_type": "code",
   "execution_count": 20,
   "id": "254461a5-31f9-4bbc-95cf-569aa9cea63a",
   "metadata": {},
   "outputs": [
    {
     "data": {
      "text/plain": [
       "6346246296"
      ]
     },
     "execution_count": 20,
     "metadata": {},
     "output_type": "execute_result"
    }
   ],
   "source": [
    "pw1.get_phone()"
   ]
  },
  {
   "cell_type": "markdown",
   "id": "f8b589e5-9cd6-4f86-9234-893c7e300ca9",
   "metadata": {},
   "source": [
    "Q3.  Python has a module called abc (abstract base class) that offers the necessary tools for crafting an abstract base class.\n",
    "abc module provides the infrastructure for defining abstract base classes  in Python."
   ]
  },
  {
   "cell_type": "markdown",
   "id": "24a6f6f7-a627-43ee-8593-ef64fd9b3147",
   "metadata": {},
   "source": [
    "Q4.  We can define an abstract method using @abstractmethod keyword on the top of a method. We can use abc module of python to achieve data abstraction in python. To define an abstract method in python we can import abstractmethod from the abc module of python"
   ]
  },
  {
   "cell_type": "markdown",
   "id": "196e09f8-e775-4ece-b1e1-3da92fb17081",
   "metadata": {},
   "source": [
    "Q5. we cannot create an instance or object of an abstract class in Python.\n",
    "    All abstract methods and properties need to be implemented in a child class in order to be able to create objects from it because we hiding the internal details of an application from the outer world."
   ]
  }
 ],
 "metadata": {
  "kernelspec": {
   "display_name": "Python 3 (ipykernel)",
   "language": "python",
   "name": "python3"
  },
  "language_info": {
   "codemirror_mode": {
    "name": "ipython",
    "version": 3
   },
   "file_extension": ".py",
   "mimetype": "text/x-python",
   "name": "python",
   "nbconvert_exporter": "python",
   "pygments_lexer": "ipython3",
   "version": "3.10.8"
  }
 },
 "nbformat": 4,
 "nbformat_minor": 5
}
